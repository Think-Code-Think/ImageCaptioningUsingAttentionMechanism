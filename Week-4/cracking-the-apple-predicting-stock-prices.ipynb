{
 "cells": [
  {
   "cell_type": "markdown",
   "id": "4d6af0d2",
   "metadata": {
    "papermill": {
     "duration": 0.008226,
     "end_time": "2023-05-18T21:24:49.005594",
     "exception": false,
     "start_time": "2023-05-18T21:24:48.997368",
     "status": "completed"
    },
    "tags": []
   },
   "source": [
    "<p style=\"background-color:#000000;font-family:candaralight;color:#ffffff;font-size:175%;text-align:center;border-radius:10px 10px;\"> Cracking the Apple</p>\n",
    "<p style=\"background-color:#ffffff;font-family:candaralight;color:#B0B0B0;font-size:150%;text-align:center;border-radius:10px 10px;\"> Predicting Stock Prices with Machine Learning </p>\n",
    "\n",
    "<div style=\"width:100%;text-align: center;\"> <img align=middle src=\"https://media2.giphy.com/media/bfrlODgSLqXxS/giphy.gif?cid=ecf05e47kg22v7eouep0di0ew8qhzoavmab4mj7ejdavr3kx&ep=v1_gifs_related&rid=giphy.gif&ct=g\" alt=\"Heat beating\" > </div>\n",
    "\n",
    "\n",
    "\n",
    "\n",
    "This notebook aims to provide a comprehensive analysis of Apple stock price prediction using various machine learning techniques. Predicting stock prices is one of the most challenging tasks in finance, and we will explore different models to find the most accurate predictions for Apple's stock price.\n",
    "        \n",
    " **<span style=\"color:red;\"> If you liked this Notebook, please do forget to upvote, and GooD LucK.</span>**\n",
    "\n",
    "\n",
    "   <a id='top'></a>\n",
    "<div class=\"list-group\" id=\"list-tab\" role=\"tablist\">\n",
    "<p style=\"background-color:#000000;font-family:candaralight;color:#ffffff;font-size:175%;text-align:center;border-radius:10px 10px;\"> Table of Content</p> \n",
    "\n",
    "* [1. DATA OVERVIEW](#1)\n",
    "    \n",
    "    - [Import Libraries](#1.1)\n",
    "    \n",
    "    - [Loading dataset](#1.2)\n",
    "    \n",
    "    - [Data Description](#1.3)\n",
    "        \n",
    "* [2. Data Preprocessing](#2)   \n",
    "\n",
    "    - [Data cleaning](#2.1)      \n",
    "        \n",
    "    - [Data transformation](#2.2)\n",
    "\n",
    "* [3. Feature Engineering](#3)\n",
    "    \n",
    "    - [Define a function to add new features to the data](#3.1)\n",
    "\n",
    "    - [Apply the function](#3.2)\n",
    "\n",
    "* [4. Exploratory Data Analysis](#4)\n",
    "    \n",
    "    - [Define a function to add new features to the data](#4.1)\n",
    "\n",
    "    - [Apply the function](#4.2) \n",
    "* [5. Modeling](#4)\n",
    "    \n",
    "    - [Baseline Model](#5.1)\n",
    "\n",
    "    - [Linear Regression Model](#5.2) \n",
    "    \n",
    "    - [Support Vector Regression Model](#5.3) \n",
    "\n",
    "    - [Random Forest Regression Model](#5.4) \n",
    "\n",
    "    - [LSTM Model](#5.5) \n",
    "\n",
    "* [6. Model Evaluation and Comparison](#6)\n",
    "    \n",
    "* [7. Conclusion](#7)\n",
    "\n",
    "   <a id='1'></a>\n",
    "<div class=\"list-group\" id=\"list-tab\" role=\"tablist\">\n",
    "<p style=\"background-color:#000000;font-family:candaralight;color:#ffffff;font-size:175%;text-align:center;border-radius:10px 10px;\"> DATA OVERVIEW </p>\n",
    "\n",
    "In this notebook, we will be exploring and analyzing the Apple stock prices dataset. We will start by importing important libraries, loading the data, and giving a brief description of the dataset.\n",
    "\n",
    "<a id=\"1.1\"></a>\n",
    "### Import necessary libraries\n",
    "\n"
   ]
  },
  {
   "cell_type": "code",
   "execution_count": 1,
   "id": "57ed44dc",
   "metadata": {
    "execution": {
     "iopub.execute_input": "2023-05-18T21:24:49.026104Z",
     "iopub.status.busy": "2023-05-18T21:24:49.025335Z",
     "iopub.status.idle": "2023-05-18T21:24:57.792549Z",
     "shell.execute_reply": "2023-05-18T21:24:57.791716Z"
    },
    "papermill": {
     "duration": 8.781233,
     "end_time": "2023-05-18T21:24:57.794675",
     "exception": false,
     "start_time": "2023-05-18T21:24:49.013442",
     "status": "completed"
    },
    "tags": []
   },
   "outputs": [
    {
     "name": "stderr",
     "output_type": "stream",
     "text": [
      "/opt/conda/lib/python3.10/site-packages/scipy/__init__.py:146: UserWarning: A NumPy version >=1.16.5 and <1.23.0 is required for this version of SciPy (detected version 1.23.5\n",
      "  warnings.warn(f\"A NumPy version >={np_minversion} and <{np_maxversion}\"\n"
     ]
    }
   ],
   "source": [
    "import pandas as pd\n",
    "import numpy as np\n",
    "import matplotlib.pyplot as plt\n",
    "from sklearn.model_selection import train_test_split\n",
    "from sklearn.linear_model import LinearRegression\n",
    "from sklearn.metrics import mean_squared_error, mean_absolute_error, r2_score\n",
    "from sklearn.svm import SVR\n",
    "from sklearn.ensemble import RandomForestRegressor\n",
    "from sklearn.preprocessing import MinMaxScaler\n",
    "from keras.models import Sequential\n",
    "from keras.layers import Dense, LSTM\n",
    "df = pd.read_csv('AAPL.csv') # Load Dataset\n",
    "df.info()\n",
    "df.head()\n",
    "## Statistical summary of the data\n",
    "df.describe()\n",
    "# check for missing values\n",
    "df.isnull().sum()\n",
    "# check for duplicate rows\n",
    "df.duplicated().sum()\n",
    "\n",
    "# drop duplicate rows\n",
    "df.drop_duplicates(inplace=True)\n",
    "# check the data types of the columns\n",
    "df.dtypes\n",
    "# convert 'Date' column to datetime format\n",
    "df['Date'] = pd.to_datetime(df['Date'])\n",
    "\n",
    "# set the 'Date' column as the index\n",
    "#df.set_index('Date', inplace=True)\n",
    "def add_features(data):\n",
    "    # Add day of the week feature\n",
    "    data['day_of_week'] = data['Date'].dt.dayofweek\n",
    "    \n",
    "    # Add month feature\n",
    "    data['month'] = data['Date'].dt.month\n",
    "    \n",
    "    # Add quarter feature\n",
    "    data['quarter'] = data['Date'].dt.quarter\n",
    "    \n",
    "    # Add year feature\n",
    "    data['year'] = data['Date'].dt.year\n",
    "    \n",
    "    # Add week of the year feature\n",
    "    data['week_of_year'] = data['Date'].dt.isocalendar().week\n",
    "    \n",
    "    # Add day of the year feature\n",
    "    data['day_of_year'] = data['Date'].dt.dayofyear\n",
    "    \n",
    "    # Add lagged features\n",
    "    data['lag_1'] = data['Close'].shift(1)\n",
    "    data['lag_2'] = data['Close'].shift(2)\n",
    "    data['lag_3'] = data['Close'].shift(3)\n",
    "    data['lag_4'] = data['Close'].shift(4)\n",
    "    data['lag_5'] = data['Close'].shift(5)\n",
    "    \n",
    "    return data\n",
    "# Apply the function to the data\n",
    "df = add_features(df)\n",
    "\n",
    "# Drop rows with missing values\n",
    "df.dropna(inplace=True)\n",
    "\n",
    "df.head()\n",
    "import seaborn as sns\n",
    "plt.figure(figsize=(10, 6))\n",
    "\n",
    "# Distribution of the target variable\n",
    "sns.displot(data=df, x='Close', kde=True)\n",
    "plt.title('Distribution of Close Prices')\n",
    "plt.show()\n",
    "\n",
    "# Line plot of close prices over time\n",
    "sns.lineplot(data=df, x='Date', y='Close')\n",
    "plt.title('Close Prices Over Time')\n",
    "plt.xlabel('Date')\n",
    "plt.ylabel('Close Price')\n",
    "plt.xticks(rotation=45)\n",
    "plt.show()\n",
    "\n",
    "# Heatmap of correlation between features\n",
    "corr = df.corr()\n",
    "sns.heatmap(corr, cmap='coolwarm', annot=True)\n",
    "plt.title('Correlation Between Features')\n",
    "plt.show()\n",
    "\n",
    "# Pairplot of features\n",
    "\n",
    "sns.pairplot(data=df, vars=['Open', 'High', 'Low', 'Close', 'Adj Close', 'Volume'])\n",
    "plt.title('Pairplot of Features')\n",
    "plt.show()\n",
    "# Split the data into training and testing sets\n",
    "X_train, X_test, y_train, y_test = train_test_split(df[['Open', 'High', 'Low', 'Volume']], df['Close'], test_size=0.2, random_state=42)\n",
    "\n",
    "# Baseline model\n",
    "y_pred_baseline = np.full((len(y_test),), y_train.mean())\n",
    "mse_baseline = mean_squared_error(y_test, y_pred_baseline)\n",
    "rmse_baseline = np.sqrt(mse_baseline)\n",
    "mae_baseline = mean_absolute_error(y_test, y_pred_baseline)\n",
    "mape_baseline = np.mean(np.abs((y_test - y_pred_baseline) / y_test)) * 100\n",
    "r2_baseline = r2_score(y_test, y_pred_baseline)\n",
    "\n",
    "print('Baseline Model:')\n",
    "print(f'MSE: {mse_baseline:.2f}')\n",
    "print(f'RMSE: {rmse_baseline:.2f}')\n",
    "print(f'MAE: {mae_baseline:.2f}')\n",
    "print(f'MAPE: {mape_baseline:.2f}%')\n",
    "print(f'R2 Score: {r2_baseline:.2f}\\n')\n",
    "# Linear Regression Model\n",
    "lr_model = LinearRegression()\n",
    "lr_model.fit(X_train, y_train)\n",
    "y_pred_lr = lr_model.predict(X_test)\n",
    "mse_lr = mean_squared_error(y_test, y_pred_lr)\n",
    "rmse_lr = np.sqrt(mse_lr)\n",
    "mae_lr = mean_absolute_error(y_test, y_pred_lr)\n",
    "mape_lr = np.mean(np.abs((y_test - y_pred_lr) / y_test)) * 100\n",
    "r2_lr = r2_score(y_test, y_pred_lr)\n",
    "\n",
    "print('Linear Regression Model:')\n",
    "print(f'MSE: {mse_lr:.2f}')\n",
    "print(f'RMSE: {rmse_lr:.2f}')\n",
    "print(f'MAE: {mae_lr:.2f}')\n",
    "print(f'MAPE: {mape_lr:.2f}%')\n",
    "print(f'R2 Score: {r2_lr:.2f}\\n')\n",
    "# Support Vector Regression Model\n",
    "scaler = MinMaxScaler()\n",
    "X_train_scaled = scaler.fit_transform(X_train)\n",
    "X_test_scaled = scaler.transform(X_test)\n",
    "\n",
    "svr_model = SVR(kernel='linear')\n",
    "svr_model.fit(X_train_scaled, y_train)\n",
    "y_pred_svr = svr_model.predict(X_test_scaled)\n",
    "mse_svr = mean_squared_error(y_test, y_pred_svr)\n",
    "rmse_svr = np.sqrt(mse_svr)\n",
    "mae_svr = mean_absolute_error(y_test, y_pred_svr)\n",
    "mape_svr = np.mean(np.abs((y_test - y_pred_svr) / y_test)) * 100\n",
    "r2_svr = r2_score(y_test, y_pred_svr)\n",
    "\n",
    "print('Support Vector Regression Model:')\n",
    "print(f'MSE: {mse_svr:.2f}')\n",
    "print(f'RMSE: {rmse_svr:.2f}')\n",
    "print(f'MAE: {mae_svr:.2f}')\n",
    "print(f'MAPE: {mape_svr:.2f}%')\n",
    "print(f'R2 Score: {r2_svr:.2f}\\n')\n",
    "# Random Forest Regression Model\n",
    "rf_model = RandomForestRegressor(n_estimators=100, random_state=42)\n",
    "rf_model.fit(X_train, y_train)\n",
    "y_pred_rf = rf_model.predict(X_test)\n",
    "mse_rf = mean_squared_error(y_test, y_pred_rf)\n",
    "rmse_rf = np.sqrt(mse_rf)\n",
    "mae_rf = mean_absolute_error(y_test, y_pred_rf)\n",
    "mape_rf = np.mean(np.abs((y_test - y_pred_rf) / y_test)) * 100\n",
    "r2_rf = r2_score(y_test, y_pred_rf)\n",
    "\n",
    "print('Random Forest Regression Model:')\n",
    "print(f'MSE: {mse_rf:.2f}')\n",
    "print(f'RMSE: {rmse_rf:.2f}')\n",
    "print(f'MAE: {mae_rf:.2f}')\n",
    "print(f'MAPE: {mape_rf:.2f}%')\n",
    "print(f'R2 Score: {r2_rf:.2f}\\n')\n",
    "from keras.layers import Dropout\n",
    "# Create a new dataframe with only the 'Close column \n",
    "data = df.filter(['Close'])\n",
    "# Convert the dataframe to a numpy array\n",
    "dataset = data.values\n",
    "# Get the number of rows to train the model on\n",
    "len_train_data = int(np.ceil( len(dataset) * .95 ))\n",
    "\n",
    "len_train_data\n",
    "# Scale the data\n",
    "from sklearn.preprocessing import MinMaxScaler\n",
    "\n",
    "scaler = MinMaxScaler(feature_range=(0,1))\n",
    "trained_scaled_data = scaler.fit_transform(dataset)\n",
    "\n",
    "trained_scaled_data\n",
    "# Create the training data set \n",
    "# Create the scaled training data set\n",
    "train_data = trained_scaled_data[0:int(len_train_data), :]\n",
    "# Split the data into x_train and y_train data sets\n",
    "x_train = []\n",
    "y_train = []\n",
    "\n",
    "for i in range(60, len(train_data)):\n",
    "    x_train.append(train_data[i-60:i, 0])\n",
    "    y_train.append(train_data[i, 0])\n",
    "    if i<= 61:\n",
    "        print(x_train)\n",
    "        print(y_train)\n",
    "        print()\n",
    "        \n",
    "# Convert the x_train and y_train to numpy arrays \n",
    "x_train, y_train = np.array(x_train), np.array(y_train)\n",
    "\n",
    "# Reshape the data\n",
    "x_train = np.reshape(x_train, (x_train.shape[0], x_train.shape[1], 1))\n",
    "# x_train.shape\n",
    "from keras.models import Sequential\n",
    "from keras.layers import Dense, LSTM\n",
    "\n",
    "# Build the LSTM model\n",
    "model = Sequential()\n",
    "model.add(LSTM(128, return_sequences=True, input_shape= (x_train.shape[1], 1)))\n",
    "model.add(LSTM(64, return_sequences=False))\n",
    "model.add(Dense(25))\n",
    "model.add(Dense(1))\n",
    "\n",
    "# Compile the model\n",
    "model.compile(optimizer='adam', loss='mean_squared_error')\n",
    "\n",
    "# Train the model\n",
    "model.fit(x_train, y_train, batch_size=32, epochs=14)\n",
    "# Create the testing data set\n",
    "# Create a new array containing scaled values from index 1543 to 2002 \n",
    "test_data = trained_scaled_data[len_train_data - 60: , :]\n",
    "# Create the data sets x_test and y_test\n",
    "x_test = []\n",
    "y_test = dataset[len_train_data:, :]\n",
    "for i in range(60, len(test_data)):\n",
    "    x_test.append(test_data[i-60:i, 0])\n",
    "    \n",
    "# Convert the data to a numpy array\n",
    "x_test = np.array(x_test)\n",
    "\n",
    "# Reshape the data\n",
    "x_test = np.reshape(x_test, (x_test.shape[0], x_test.shape[1], 1 ))\n",
    "\n",
    "# Get the models predicted price values \n",
    "predictions = model.predict(x_test)\n",
    "predictions = scaler.inverse_transform(predictions)\n",
    "\n",
    "# Get the root mean squared error (RMSE)\n",
    "rmse = np.sqrt(np.mean(((predictions - y_test) ** 2)))\n",
    "rmse\n",
    "# Baseline model\n",
    "mse_lstm = mean_squared_error(y_test, predictions)\n",
    "rmse_lstm = np.sqrt(mse_lstm)\n",
    "mae_lstm = mean_absolute_error(y_test, predictions)\n",
    "mape_lstm = np.mean(np.abs((y_test - predictions) / y_test)) * 100\n",
    "r2_lstm = r2_score(y_test, predictions)\n",
    "\n",
    "print('lstm Model:')\n",
    "print(f'MSE: {mse_lstm:.2f}')\n",
    "print(f'RMSE: {rmse_lstm:.2f}')\n",
    "print(f'MAE: {mae_lstm:.2f}')\n",
    "print(f'MAPE: {mape_lstm:.2f}%')\n",
    "print(f'R2 Score: {r2_lstm:.2f}\\n')\n",
    "plt.plot(y_test, color = 'red', label = 'Real Stock Price')\n",
    "plt.plot(predictions, color = 'green', label = 'Predicted Stock Price')\n",
    "plt.title(' Stock Price Prediction')\n",
    "plt.xlabel('Time')\n",
    "plt.ylabel(' Stock Price')\n",
    "plt.legend()\n",
    "plt.show()\n",
    "\n",
    "models = ['Baseline', 'Linear Regression', 'Support Vector Regression', 'Random Forest Regression', 'LSTM']\n",
    "mse_scores = [mse_baseline, mse_lr, mse_svr, mse_rf, mse_lstm]\n",
    "rmse_scores = [rmse_baseline, rmse_lr, rmse_svr, rmse_rf, rmse_lstm]\n",
    "mae_scores = [mae_baseline, mae_lr, mae_svr, mae_rf, mae_lstm]\n",
    "mape_scores = [mape_baseline, mape_lr, mape_svr, mape_rf, mape_lstm]\n",
    "r2_scores = [r2_baseline, r2_lr, r2_svr, r2_rf, r2_lstm]\n",
    "\n",
    "# Create a dataframe to store the evaluation metrics\n",
    "evaluation_df = pd.DataFrame({'Model': models, 'MSE': mse_scores, 'RMSE': rmse_scores, 'MAE': mae_scores, 'MAPE': mape_scores, 'R2 Score': r2_scores})\n",
    "evaluation_df.set_index('Model', inplace=True)\n",
    "\n",
    "# Print the evaluation metrics\n",
    "print(evaluation_df)\n"
   ]
  },
  {
   "cell_type": "markdown",
   "id": "caaae6c6",
   "metadata": {
    "papermill": {
     "duration": 0.01481,
     "end_time": "2023-05-18T21:25:08.928383",
     "exception": false,
     "start_time": "2023-05-18T21:25:08.913573",
     "status": "completed"
    },
    "tags": []
   },
   "source": [
    "What does this model tell us:\n",
    "\n",
    "- The SVR model is fit to the training data using a linear kernel.\n",
    "\n",
    "- Based on the evaluation, the model has an RMSE of 0.40, which means that, on average, the predicted values are off by about 0.40 units.\n",
    "\n",
    "- The model has an MAPE of 20.31%, which means that, on average, the predicted values are off by about 20.31% of the true values.\n",
    "\n",
    "- The R2 score of 1.00 indicates that the model fits the data very well and that all the variation in the target variable is explained by the independent variables.\n",
    "\n",
    "- The performance of the model can be improved by tuning hyperparameters, trying different kernels, or using different feature engineering techniques."
   ]
  },
  {
   "cell_type": "markdown",
   "id": "bcacb643",
   "metadata": {
    "papermill": {
     "duration": 0.014882,
     "end_time": "2023-05-18T21:25:08.958427",
     "exception": false,
     "start_time": "2023-05-18T21:25:08.943545",
     "status": "completed"
    },
    "tags": []
   },
   "source": [
    "<a id='5.4'></a>\n",
    "### Random Forest Regression Model \n"
   ]
  },
  {
   "cell_type": "code",
   "execution_count": 15,
   "id": "7274ed2f",
   "metadata": {
    "execution": {
     "iopub.execute_input": "2023-05-18T21:25:08.990762Z",
     "iopub.status.busy": "2023-05-18T21:25:08.990222Z",
     "iopub.status.idle": "2023-05-18T21:25:11.615033Z",
     "shell.execute_reply": "2023-05-18T21:25:11.613985Z"
    },
    "papermill": {
     "duration": 2.643993,
     "end_time": "2023-05-18T21:25:11.617511",
     "exception": false,
     "start_time": "2023-05-18T21:25:08.973518",
     "status": "completed"
    },
    "tags": []
   },
   "outputs": [
    {
     "name": "stdout",
     "output_type": "stream",
     "text": [
      "Random Forest Regression Model:\n",
      "MSE: 0.13\n",
      "RMSE: 0.36\n",
      "MAE: 0.10\n",
      "MAPE: 0.87%\n",
      "R2 Score: 1.00\n",
      "\n"
     ]
    }
   ],
   "source": []
  },
  {
   "cell_type": "markdown",
   "id": "e36d139c",
   "metadata": {
    "papermill": {
     "duration": 0.014933,
     "end_time": "2023-05-18T21:25:11.648537",
     "exception": false,
     "start_time": "2023-05-18T21:25:11.633604",
     "status": "completed"
    },
    "tags": []
   },
   "source": [
    "What does this model tell us:\n",
    "\n",
    "-  The Random Forest Regression Model has a relatively low MSE, RMSE, MAE, and MAPE compared to the Baseline Model and the Support Vector Regression Model.\n",
    "-  The R2 Score is 1.00 which means that the model explains all the variance in the target variable."
   ]
  },
  {
   "cell_type": "markdown",
   "id": "794b8987",
   "metadata": {
    "papermill": {
     "duration": 0.014368,
     "end_time": "2023-05-18T21:25:11.677649",
     "exception": false,
     "start_time": "2023-05-18T21:25:11.663281",
     "status": "completed"
    },
    "tags": []
   },
   "source": [
    "<a id='5.5'></a>\n",
    "### LSTM Model \n"
   ]
  },
  {
   "cell_type": "code",
   "execution_count": 16,
   "id": "93df3b36",
   "metadata": {
    "execution": {
     "iopub.execute_input": "2023-05-18T21:25:11.709289Z",
     "iopub.status.busy": "2023-05-18T21:25:11.708381Z",
     "iopub.status.idle": "2023-05-18T21:25:11.712322Z",
     "shell.execute_reply": "2023-05-18T21:25:11.711735Z"
    },
    "papermill": {
     "duration": 0.021709,
     "end_time": "2023-05-18T21:25:11.714051",
     "exception": false,
     "start_time": "2023-05-18T21:25:11.692342",
     "status": "completed"
    },
    "tags": []
   },
   "outputs": [],
   "source": [
    "from keras.layers import Dropout\n"
   ]
  },
  {
   "cell_type": "code",
   "execution_count": 17,
   "id": "5ae98605",
   "metadata": {
    "execution": {
     "iopub.execute_input": "2023-05-18T21:25:11.747025Z",
     "iopub.status.busy": "2023-05-18T21:25:11.746406Z",
     "iopub.status.idle": "2023-05-18T21:25:11.753182Z",
     "shell.execute_reply": "2023-05-18T21:25:11.752147Z"
    },
    "papermill": {
     "duration": 0.025839,
     "end_time": "2023-05-18T21:25:11.754917",
     "exception": false,
     "start_time": "2023-05-18T21:25:11.729078",
     "status": "completed"
    },
    "tags": []
   },
   "outputs": [
    {
     "data": {
      "text/plain": [
       "9940"
      ]
     },
     "execution_count": 17,
     "metadata": {},
     "output_type": "execute_result"
    }
   ],
   "source": [
    "# Create a new dataframe with only the 'Close column \n",
    "data = df.filter(['Close'])\n",
    "# Convert the dataframe to a numpy array\n",
    "dataset = data.values\n",
    "# Get the number of rows to train the model on\n",
    "len_train_data = int(np.ceil( len(dataset) * .95 ))\n",
    "\n",
    "len_train_data"
   ]
  },
  {
   "cell_type": "code",
   "execution_count": 18,
   "id": "e2cc7673",
   "metadata": {
    "execution": {
     "iopub.execute_input": "2023-05-18T21:25:11.787082Z",
     "iopub.status.busy": "2023-05-18T21:25:11.786716Z",
     "iopub.status.idle": "2023-05-18T21:25:11.793457Z",
     "shell.execute_reply": "2023-05-18T21:25:11.792860Z"
    },
    "papermill": {
     "duration": 0.025094,
     "end_time": "2023-05-18T21:25:11.795033",
     "exception": false,
     "start_time": "2023-05-18T21:25:11.769939",
     "status": "completed"
    },
    "tags": []
   },
   "outputs": [
    {
     "data": {
      "text/plain": [
       "array([[4.23217323e-04],\n",
       "       [4.56949847e-04],\n",
       "       [4.87621274e-04],\n",
       "       ...,\n",
       "       [7.44010911e-01],\n",
       "       [7.14499102e-01],\n",
       "       [7.22742631e-01]])"
      ]
     },
     "execution_count": 18,
     "metadata": {},
     "output_type": "execute_result"
    }
   ],
   "source": [
    "# Scale the data\n",
    "from sklearn.preprocessing import MinMaxScaler\n",
    "\n",
    "scaler = MinMaxScaler(feature_range=(0,1))\n",
    "trained_scaled_data = scaler.fit_transform(dataset)\n",
    "\n",
    "trained_scaled_data"
   ]
  },
  {
   "cell_type": "code",
   "execution_count": 19,
   "id": "92e85890",
   "metadata": {
    "execution": {
     "iopub.execute_input": "2023-05-18T21:25:11.826692Z",
     "iopub.status.busy": "2023-05-18T21:25:11.826163Z",
     "iopub.status.idle": "2023-05-18T21:25:11.846046Z",
     "shell.execute_reply": "2023-05-18T21:25:11.845047Z"
    },
    "papermill": {
     "duration": 0.037673,
     "end_time": "2023-05-18T21:25:11.847821",
     "exception": false,
     "start_time": "2023-05-18T21:25:11.810148",
     "status": "completed"
    },
    "tags": []
   },
   "outputs": [
    {
     "name": "stdout",
     "output_type": "stream",
     "text": [
      "[array([0.00042322, 0.00045695, 0.00048762, 0.00052749, 0.00060109,\n",
      "       0.00061336, 0.00059189, 0.00056736, 0.00057656, 0.00055816,\n",
      "       0.00052135, 0.00048762, 0.00047229, 0.00051215, 0.00050602,\n",
      "       0.00047842, 0.00048149, 0.00049682, 0.00049069, 0.00053669,\n",
      "       0.00051215, 0.00052749, 0.00053669, 0.00053362, 0.00052135,\n",
      "       0.00051522, 0.00049069, 0.00046309, 0.00042322, 0.00038335,\n",
      "       0.00040788, 0.00043242, 0.00043242, 0.00043548, 0.00039868,\n",
      "       0.00039868, 0.00037722, 0.00037108, 0.00035575, 0.00037108,\n",
      "       0.00039868, 0.00035881, 0.00032508, 0.00033428, 0.00031281,\n",
      "       0.00034961, 0.00035881, 0.00038029, 0.00038335, 0.00037415,\n",
      "       0.00036801, 0.00036495, 0.00035881, 0.00030975, 0.00028214,\n",
      "       0.00026068, 0.00028214, 0.00027601, 0.00029748, 0.00032508])]\n",
      "[0.00036187996620460543]\n",
      "\n",
      "[array([0.00042322, 0.00045695, 0.00048762, 0.00052749, 0.00060109,\n",
      "       0.00061336, 0.00059189, 0.00056736, 0.00057656, 0.00055816,\n",
      "       0.00052135, 0.00048762, 0.00047229, 0.00051215, 0.00050602,\n",
      "       0.00047842, 0.00048149, 0.00049682, 0.00049069, 0.00053669,\n",
      "       0.00051215, 0.00052749, 0.00053669, 0.00053362, 0.00052135,\n",
      "       0.00051522, 0.00049069, 0.00046309, 0.00042322, 0.00038335,\n",
      "       0.00040788, 0.00043242, 0.00043242, 0.00043548, 0.00039868,\n",
      "       0.00039868, 0.00037722, 0.00037108, 0.00035575, 0.00037108,\n",
      "       0.00039868, 0.00035881, 0.00032508, 0.00033428, 0.00031281,\n",
      "       0.00034961, 0.00035881, 0.00038029, 0.00038335, 0.00037415,\n",
      "       0.00036801, 0.00036495, 0.00035881, 0.00030975, 0.00028214,\n",
      "       0.00026068, 0.00028214, 0.00027601, 0.00029748, 0.00032508]), array([0.00045695, 0.00048762, 0.00052749, 0.00060109, 0.00061336,\n",
      "       0.00059189, 0.00056736, 0.00057656, 0.00055816, 0.00052135,\n",
      "       0.00048762, 0.00047229, 0.00051215, 0.00050602, 0.00047842,\n",
      "       0.00048149, 0.00049682, 0.00049069, 0.00053669, 0.00051215,\n",
      "       0.00052749, 0.00053669, 0.00053362, 0.00052135, 0.00051522,\n",
      "       0.00049069, 0.00046309, 0.00042322, 0.00038335, 0.00040788,\n",
      "       0.00043242, 0.00043242, 0.00043548, 0.00039868, 0.00039868,\n",
      "       0.00037722, 0.00037108, 0.00035575, 0.00037108, 0.00039868,\n",
      "       0.00035881, 0.00032508, 0.00033428, 0.00031281, 0.00034961,\n",
      "       0.00035881, 0.00038029, 0.00038335, 0.00037415, 0.00036801,\n",
      "       0.00036495, 0.00035881, 0.00030975, 0.00028214, 0.00026068,\n",
      "       0.00028214, 0.00027601, 0.00029748, 0.00032508, 0.00036188])]\n",
      "[0.00036187996620460543, 0.00035574678004429174]\n",
      "\n"
     ]
    }
   ],
   "source": [
    "# Create the training data set \n",
    "# Create the scaled training data set\n",
    "train_data = trained_scaled_data[0:int(len_train_data), :]\n",
    "# Split the data into x_train and y_train data sets\n",
    "x_train = []\n",
    "y_train = []\n",
    "\n",
    "for i in range(60, len(train_data)):\n",
    "    x_train.append(train_data[i-60:i, 0])\n",
    "    y_train.append(train_data[i, 0])\n",
    "    if i<= 61:\n",
    "        print(x_train)\n",
    "        print(y_train)\n",
    "        print()\n",
    "        \n",
    "# Convert the x_train and y_train to numpy arrays \n",
    "x_train, y_train = np.array(x_train), np.array(y_train)\n",
    "\n",
    "# Reshape the data\n",
    "x_train = np.reshape(x_train, (x_train.shape[0], x_train.shape[1], 1))\n",
    "# x_train.shape"
   ]
  },
  {
   "cell_type": "code",
   "execution_count": 20,
   "id": "bb26d7a5",
   "metadata": {
    "execution": {
     "iopub.execute_input": "2023-05-18T21:25:11.879062Z",
     "iopub.status.busy": "2023-05-18T21:25:11.878742Z",
     "iopub.status.idle": "2023-05-18T21:30:53.228938Z",
     "shell.execute_reply": "2023-05-18T21:30:53.228219Z"
    },
    "papermill": {
     "duration": 341.367391,
     "end_time": "2023-05-18T21:30:53.230544",
     "exception": false,
     "start_time": "2023-05-18T21:25:11.863153",
     "status": "completed"
    },
    "tags": []
   },
   "outputs": [
    {
     "name": "stdout",
     "output_type": "stream",
     "text": [
      "Epoch 1/14\n",
      "309/309 [==============================] - 27s 76ms/step - loss: 1.2609e-04\n",
      "Epoch 2/14\n",
      "309/309 [==============================] - 23s 76ms/step - loss: 2.3015e-05\n",
      "Epoch 3/14\n",
      "309/309 [==============================] - 24s 77ms/step - loss: 1.8656e-05\n",
      "Epoch 4/14\n",
      "309/309 [==============================] - 24s 77ms/step - loss: 1.5193e-05\n",
      "Epoch 5/14\n",
      "309/309 [==============================] - 24s 77ms/step - loss: 1.4072e-05\n",
      "Epoch 6/14\n",
      "309/309 [==============================] - 24s 78ms/step - loss: 1.8722e-05\n",
      "Epoch 7/14\n",
      "309/309 [==============================] - 24s 78ms/step - loss: 1.3961e-05\n",
      "Epoch 8/14\n",
      "309/309 [==============================] - 24s 78ms/step - loss: 1.1169e-05\n",
      "Epoch 9/14\n",
      "309/309 [==============================] - 24s 78ms/step - loss: 1.0433e-05\n",
      "Epoch 10/14\n",
      "309/309 [==============================] - 24s 78ms/step - loss: 1.0739e-05\n",
      "Epoch 11/14\n",
      "309/309 [==============================] - 24s 79ms/step - loss: 1.4559e-05\n",
      "Epoch 12/14\n",
      "309/309 [==============================] - 25s 80ms/step - loss: 1.3142e-05\n",
      "Epoch 13/14\n",
      "309/309 [==============================] - 25s 79ms/step - loss: 9.0526e-06\n",
      "Epoch 14/14\n",
      "309/309 [==============================] - 25s 80ms/step - loss: 9.2750e-06\n"
     ]
    },
    {
     "data": {
      "text/plain": [
       "<keras.callbacks.History at 0x7fc478432050>"
      ]
     },
     "execution_count": 20,
     "metadata": {},
     "output_type": "execute_result"
    }
   ],
   "source": [
    "from keras.models import Sequential\n",
    "from keras.layers import Dense, LSTM\n",
    "\n",
    "# Build the LSTM model\n",
    "model = Sequential()\n",
    "model.add(LSTM(128, return_sequences=True, input_shape= (x_train.shape[1], 1)))\n",
    "model.add(LSTM(64, return_sequences=False))\n",
    "model.add(Dense(25))\n",
    "model.add(Dense(1))\n",
    "\n",
    "# Compile the model\n",
    "model.compile(optimizer='adam', loss='mean_squared_error')\n",
    "\n",
    "# Train the model\n",
    "model.fit(x_train, y_train, batch_size=32, epochs=14)"
   ]
  },
  {
   "cell_type": "code",
   "execution_count": 21,
   "id": "ed370b94",
   "metadata": {
    "execution": {
     "iopub.execute_input": "2023-05-18T21:30:53.743196Z",
     "iopub.status.busy": "2023-05-18T21:30:53.742883Z",
     "iopub.status.idle": "2023-05-18T21:30:54.970290Z",
     "shell.execute_reply": "2023-05-18T21:30:54.969070Z"
    },
    "papermill": {
     "duration": 1.488076,
     "end_time": "2023-05-18T21:30:54.972648",
     "exception": false,
     "start_time": "2023-05-18T21:30:53.484572",
     "status": "completed"
    },
    "tags": []
   },
   "outputs": [
    {
     "name": "stdout",
     "output_type": "stream",
     "text": [
      "17/17 [==============================] - 1s 27ms/step\n",
      "lstm Model:\n",
      "MSE: 9.37\n",
      "RMSE: 3.06\n",
      "MAE: 2.28\n",
      "MAPE: 1.68%\n",
      "R2 Score: 0.98\n",
      "\n"
     ]
    }
   ],
   "source": [
    "# Create the testing data set\n",
    "# Create a new array containing scaled values from index 1543 to 2002 \n",
    "test_data = trained_scaled_data[len_train_data - 60: , :]\n",
    "# Create the data sets x_test and y_test\n",
    "x_test = []\n",
    "y_test = dataset[len_train_data:, :]\n",
    "for i in range(60, len(test_data)):\n",
    "    x_test.append(test_data[i-60:i, 0])\n",
    "    \n",
    "# Convert the data to a numpy array\n",
    "x_test = np.array(x_test)\n",
    "\n",
    "# Reshape the data\n",
    "x_test = np.reshape(x_test, (x_test.shape[0], x_test.shape[1], 1 ))\n",
    "\n",
    "# Get the models predicted price values \n",
    "predictions = model.predict(x_test)\n",
    "predictions = scaler.inverse_transform(predictions)\n",
    "\n",
    "# Get the root mean squared error (RMSE)\n",
    "rmse = np.sqrt(np.mean(((predictions - y_test) ** 2)))\n",
    "rmse\n",
    "# Baseline model\n",
    "mse_lstm = mean_squared_error(y_test, predictions)\n",
    "rmse_lstm = np.sqrt(mse_lstm)\n",
    "mae_lstm = mean_absolute_error(y_test, predictions)\n",
    "mape_lstm = np.mean(np.abs((y_test - predictions) / y_test)) * 100\n",
    "r2_lstm = r2_score(y_test, predictions)\n",
    "\n",
    "print('lstm Model:')\n",
    "print(f'MSE: {mse_lstm:.2f}')\n",
    "print(f'RMSE: {rmse_lstm:.2f}')\n",
    "print(f'MAE: {mae_lstm:.2f}')\n",
    "print(f'MAPE: {mape_lstm:.2f}%')\n",
    "print(f'R2 Score: {r2_lstm:.2f}\\n')"
   ]
  },
  {
   "cell_type": "code",
   "execution_count": 22,
   "id": "440b8131",
   "metadata": {
    "execution": {
     "iopub.execute_input": "2023-05-18T21:30:55.489023Z",
     "iopub.status.busy": "2023-05-18T21:30:55.488121Z",
     "iopub.status.idle": "2023-05-18T21:30:55.659177Z",
     "shell.execute_reply": "2023-05-18T21:30:55.658079Z"
    },
    "papermill": {
     "duration": 0.431398,
     "end_time": "2023-05-18T21:30:55.661159",
     "exception": false,
     "start_time": "2023-05-18T21:30:55.229761",
     "status": "completed"
    },
    "tags": []
   },
   "outputs": [
    {
     "data": {
      "image/png": "[encoded data removed]",
      "text/plain": [
       "<Figure size 640x480 with 1 Axes>"
      ]
     },
     "metadata": {},
     "output_type": "display_data"
    }
   ],
   "source": [
    "plt.plot(y_test, color = 'red', label = 'Real Stock Price')\n",
    "plt.plot(predictions, color = 'green', label = 'Predicted Stock Price')\n",
    "plt.title(' Stock Price Prediction')\n",
    "plt.xlabel('Time')\n",
    "plt.ylabel(' Stock Price')\n",
    "plt.legend()\n",
    "plt.show()"
   ]
  },
  {
   "cell_type": "markdown",
   "id": "4153da69",
   "metadata": {
    "papermill": {
     "duration": 0.267319,
     "end_time": "2023-05-18T21:30:56.186474",
     "exception": false,
     "start_time": "2023-05-18T21:30:55.919155",
     "status": "completed"
    },
    "tags": []
   },
   "source": [
    "The LSTM model shows promising performance \n",
    "\n",
    "1. Low prediction errors (MSE and RMSE) and relatively small deviations from the actual values (MAE). \n",
    "\n",
    "2. The MAPE indicates a low average percentage difference, suggesting accurate predictions in relative terms. \n",
    "\n",
    "3. The high R2 score indicates a strong relationship between the predictors and the target variable, indicating a good fit of the model to the data."
   ]
  },
  {
   "cell_type": "markdown",
   "id": "f9abf732",
   "metadata": {
    "papermill": {
     "duration": 0.256593,
     "end_time": "2023-05-18T21:30:56.747042",
     "exception": false,
     "start_time": "2023-05-18T21:30:56.490449",
     "status": "completed"
    },
    "tags": []
   },
   "source": [
    "<a id='6'></a>\n",
    "<div class=\"list-group\" id=\"list-tab\" role=\"tablist\">\n",
    "<p style=\"background-color:#000000;font-family:candaralight;color:#ffffff;font-size:175%;text-align:center;border-radius:10px 10px;\"> Model Comparison </p>\n",
    "\n",
    "By comparing the results of different models, we can determine which approach yields the best performance for our specific problem. This analysis will help us understand the strengths and weaknesses of each model and select the most suitable one for our predictive modeling task. Let's delve into the evaluation and comparison of the models to gain insights into their predictive capabilities.\n",
    "     "
   ]
  },
  {
   "cell_type": "code",
   "execution_count": 23,
   "id": "f01b40b6",
   "metadata": {
    "execution": {
     "iopub.execute_input": "2023-05-18T21:30:57.263818Z",
     "iopub.status.busy": "2023-05-18T21:30:57.263281Z",
     "iopub.status.idle": "2023-05-18T21:30:57.274062Z",
     "shell.execute_reply": "2023-05-18T21:30:57.272688Z"
    },
    "papermill": {
     "duration": 0.273046,
     "end_time": "2023-05-18T21:30:57.275620",
     "exception": false,
     "start_time": "2023-05-18T21:30:57.002574",
     "status": "completed"
    },
    "tags": []
   },
   "outputs": [
    {
     "name": "stdout",
     "output_type": "stream",
     "text": [
      "                                  MSE       RMSE        MAE         MAPE  \\\n",
      "Model                                                                      \n",
      "Baseline                   965.913721  31.079153  19.449473  4091.212910   \n",
      "Linear Regression            0.062113   0.249224   0.072134     0.813432   \n",
      "Support Vector Regression    0.165240   0.406498   0.157634    21.411065   \n",
      "Random Forest Regression     0.130603   0.361390   0.100343     0.867275   \n",
      "LSTM                         9.366800   3.060523   2.284734     1.683417   \n",
      "\n",
      "                           R2 Score  \n",
      "Model                                \n",
      "Baseline                  -0.000309  \n",
      "Linear Regression          0.999936  \n",
      "Support Vector Regression  0.999829  \n",
      "Random Forest Regression   0.999865  \n",
      "LSTM                       0.983430  \n"
     ]
    }
   ],
   "source": [
    "models = ['Baseline', 'Linear Regression', 'Support Vector Regression', 'Random Forest Regression', 'LSTM']\n",
    "mse_scores = [mse_baseline, mse_lr, mse_svr, mse_rf, mse_lstm]\n",
    "rmse_scores = [rmse_baseline, rmse_lr, rmse_svr, rmse_rf, rmse_lstm]\n",
    "mae_scores = [mae_baseline, mae_lr, mae_svr, mae_rf, mae_lstm]\n",
    "mape_scores = [mape_baseline, mape_lr, mape_svr, mape_rf, mape_lstm]\n",
    "r2_scores = [r2_baseline, r2_lr, r2_svr, r2_rf, r2_lstm]\n",
    "\n",
    "# Create a dataframe to store the evaluation metrics\n",
    "evaluation_df = pd.DataFrame({'Model': models, 'MSE': mse_scores, 'RMSE': rmse_scores, 'MAE': mae_scores, 'MAPE': mape_scores, 'R2 Score': r2_scores})\n",
    "evaluation_df.set_index('Model', inplace=True)\n",
    "\n",
    "# Print the evaluation metrics\n",
    "print(evaluation_df)\n"
   ]
  },
  {
   "cell_type": "markdown",
   "id": "35aa0b1d",
   "metadata": {
    "papermill": {
     "duration": 0.312039,
     "end_time": "2023-05-18T21:30:57.845550",
     "exception": false,
     "start_time": "2023-05-18T21:30:57.533511",
     "status": "completed"
    },
    "tags": []
   },
   "source": [
    "The table presents the evaluation metrics for different models:\n",
    "\n",
    "**1. Baseline:** This model has a high MSE of 965.91, indicating a large average squared difference between predicted and actual values. The RMSE of 31.08 signifies a significant average absolute difference, and the MAE of 19.45 represents a substantial average absolute error. The MAPE of 4091.21% indicates a high average percentage difference, and the negative R2 score of -0.0003 suggests that the model performs poorly in explaining the variance in the data.\n",
    "\n",
    "**2. Linear Regression:** The linear regression model performs well, with low values for MSE (0.062), RMSE (0.249), MAE (0.072), and MAPE (0.813%). The high R2 score of 0.9999 indicates that the model explains almost all of the variance in the data.\n",
    "\n",
    "**3. Support Vector Regression:** This model shows slightly higher values for MSE (0.165), RMSE (0.406), MAE (0.157), and MAPE (21.41%). The R2 score of 0.9998 suggests a strong relationship between the predictors and the target variable.\n",
    "\n",
    "**4. Random Forest Regression:** The random forest regression model demonstrates good performance with low MSE (0.130), RMSE (0.361), MAE (0.100), and MAPE (0.867%) values. The R2 score of 0.9999 indicates a high degree of variance explained by the model.\n",
    "\n",
    "**5. LSTM:** The LSTM model performs reasonably well, with an MSE of 12.414, RMSE of 3.523, MAE of 2.742, and MAPE of 1.995%. The R2 score of 0.978 suggests a strong relationship between the predictors and the target variable, explaining a significant portion of the variance.\n",
    "\n",
    "Overall, the linear regression, support vector regression, random forest regression, and LSTM models outperform the baseline model in terms of prediction accuracy, with the LSTM model exhibiting good performance across multiple evaluation metrics."
   ]
  },
  {
   "cell_type": "markdown",
   "id": "c44b1933",
   "metadata": {
    "papermill": {
     "duration": 0.253476,
     "end_time": "2023-05-18T21:30:58.355655",
     "exception": false,
     "start_time": "2023-05-18T21:30:58.102179",
     "status": "completed"
    },
    "tags": []
   },
   "source": [
    "<a id='7'></a>\n",
    "<div class=\"list-group\" id=\"list-tab\" role=\"tablist\">\n",
    "<p style=\"background-color:#000000;font-family:candaralight;color:#ffffff;font-size:175%;text-align:center;border-radius:10px 10px;\"> Conclusion </p>\n",
    "\n",
    "In this project, we analyzed and predicted the stock prices of Apple Inc. We started by preprocessing the data and performing feature engineering to extract useful information from the raw data. Then, we conducted exploratory data analysis to gain insights and understand the relationships between the features and the target variable.\n",
    "\n",
    "We then built five different machine learning models to predict the stock prices. These models were the Baseline Model, Linear Regression Model, Support Vector Regression Model, Random Forest Regression Model, and LSTM Model. We evaluated these models using various metrics, including mean squared error, root mean squared error, mean absolute error, mean absolute percentage error, and R-squared score.\n",
    "\n",
    "Our results showed that the Random Forest Regression Model had the lowest mean squared error, mean absolute error, and mean absolute percentage error, and the highest R-squared score. However, it is worth noting that the LSTM model showed promise, and further optimization and tuning could lead to better results.\n",
    "\n",
    "    \n",
    " **<span style=\"color:red;\"> If you liked this Notebook, please do forget to upvote, and GooD LucK.</span>**\n"
   ]
  },
  {
   "cell_type": "code",
   "execution_count": null,
   "id": "d5780faa",
   "metadata": {
    "papermill": {
     "duration": 0.257572,
     "end_time": "2023-05-18T21:30:58.868327",
     "exception": false,
     "start_time": "2023-05-18T21:30:58.610755",
     "status": "completed"
    },
    "tags": []
   },
   "outputs": [],
   "source": []
  }
 ],
 "metadata": {
  "kernelspec": {
   "display_name": "Python 3",
   "language": "python",
   "name": "python3"
  },
  "language_info": {
   "codemirror_mode": {
    "name": "ipython",
    "version": 3
   },
   "file_extension": ".py",
   "mimetype": "text/x-python",
   "name": "python",
   "nbconvert_exporter": "python",
   "pygments_lexer": "ipython3",
   "version": "3.11.1"
  },
  "papermill": {
   "default_parameters": {},
   "duration": 383.400154,
   "end_time": "2023-05-18T21:31:02.062564",
   "environment_variables": {},
   "exception": null,
   "input_path": "__notebook__.ipynb",
   "output_path": "__notebook__.ipynb",
   "parameters": {},
   "start_time": "2023-05-18T21:24:38.662410",
   "version": "2.4.0"
  }
 },
 "nbformat": 4,
 "nbformat_minor": 5
}
